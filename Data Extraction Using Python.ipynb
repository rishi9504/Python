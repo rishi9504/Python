{
 "cells": [
  {
   "cell_type": "code",
   "execution_count": 1,
   "metadata": {},
   "outputs": [],
   "source": [
    "#importing the sqlite for extracting data from the tables already created or to be created\n",
    "import sqlite3"
   ]
  },
  {
   "cell_type": "code",
   "execution_count": 3,
   "metadata": {},
   "outputs": [
    {
     "data": {
      "text/plain": [
       "<sqlite3.Cursor at 0x297d44c7810>"
      ]
     },
     "execution_count": 3,
     "metadata": {},
     "output_type": "execute_result"
    }
   ],
   "source": [
    "#trying a connection to the classroom db, you can change the name and location to any db you want to point\n",
    "connection = sqlite3.connect(\"classroomDB.db\") \n",
    "cursor = connection.cursor()\n",
    "#creating a cursor and using it to execute our sql queries \n",
    "create_table = \"\"\"CREATE TABLE classroom(student_id INTEGAR PRIMARY KEY,name VARCHAR(20),gender CHAR(1),marks INTEGAR);\"\"\"\n",
    "cursor.execute(create_table)"
   ]
  },
  {
   "cell_type": "code",
   "execution_count": 4,
   "metadata": {},
   "outputs": [],
   "source": [
    "#commit our connection means roughly that we are saving our data in the db for any changes we have made by now\n",
    "connection.commit()"
   ]
  },
  {
   "cell_type": "code",
   "execution_count": 5,
   "metadata": {},
   "outputs": [],
   "source": [
    "classroom_data = [ (1,\"Raj\",\"M\",45), (2,\"Simran\",\"F\",45), (3,\"Priyanka\",\"F\",45)]"
   ]
  },
  {
   "cell_type": "code",
   "execution_count": 9,
   "metadata": {},
   "outputs": [],
   "source": [
    "#using a loop to add the data to the table using our cursor \n",
    "for student in classroom_data:\n",
    "    insert_stat = \"\"\"INSERT INTO classroom(student_id,name,gender,marks) VALUES ({0},\"{1}\",\"{2}\",{3})\"\"\".format(student[0],student[1],student[2],student[3])\n",
    "    cursor.execute(insert_stat)\n",
    "connection.commit()    "
   ]
  },
  {
   "cell_type": "code",
   "execution_count": 10,
   "metadata": {},
   "outputs": [
    {
     "name": "stdout",
     "output_type": "stream",
     "text": [
      "(1, 'Raj', 'M', 45)\n",
      "(2, 'Simran', 'F', 45)\n",
      "(3, 'Priyanka', 'F', 45)\n"
     ]
    }
   ],
   "source": [
    "query = \"SELECT * FROM classroom\"\n",
    "cursor.execute(query)\n",
    "result = cursor.fetchall()\n",
    "for row in result:\n",
    "    print (row)"
   ]
  },
  {
   "cell_type": "code",
   "execution_count": null,
   "metadata": {},
   "outputs": [],
   "source": []
  }
 ],
 "metadata": {
  "kernelspec": {
   "display_name": "Python 3",
   "language": "python",
   "name": "python3"
  },
  "language_info": {
   "codemirror_mode": {
    "name": "ipython",
    "version": 3
   },
   "file_extension": ".py",
   "mimetype": "text/x-python",
   "name": "python",
   "nbconvert_exporter": "python",
   "pygments_lexer": "ipython3",
   "version": "3.7.1"
  }
 },
 "nbformat": 4,
 "nbformat_minor": 2
}
